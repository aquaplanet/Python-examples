{
 "cells": [
  {
   "cell_type": "markdown",
   "metadata": {},
   "source": [
    "# My computer's network interfaces and their addresses"
   ]
  },
  {
   "cell_type": "markdown",
   "metadata": {},
   "source": [
    "I found this https://pypi.org/project/netifaces/ pip package which might help me alot."
   ]
  },
  {
   "cell_type": "code",
   "execution_count": 1,
   "metadata": {},
   "outputs": [
    {
     "name": "stdout",
     "output_type": "stream",
     "text": [
      "['lo0', 'gif0', 'stf0', 'XHC20', 'en0', 'p2p0', 'awdl0', 'en1', 'en2', 'bridge0', 'utun0', 'ipsec0']\n"
     ]
    }
   ],
   "source": [
    "import netifaces\n",
    "\n",
    "print(netifaces.interfaces())"
   ]
  },
  {
   "cell_type": "markdown",
   "metadata": {},
   "source": [
    "The problem the package tries to solve has the following against it:\n",
    "- It is pretty much impossible to do this in a portable manner. This package deals with that but you have to use its constants or else YOUR code is not portable.\n",
    "- Every interface can have many addresses so if you are looking for one particular you have to keep that in mind."
   ]
  },
  {
   "cell_type": "code",
   "execution_count": 10,
   "metadata": {},
   "outputs": [
    {
     "name": "stdout",
     "output_type": "stream",
     "text": [
      "{'lo0': [{'addr': '127.0.0.1', 'netmask': '255.0.0.0', 'peer': '127.0.0.1'}], 'en0': [{'addr': '10.0.3.184', 'netmask': '255.255.255.0', 'broadcast': '10.0.3.255'}]}\n"
     ]
    }
   ],
   "source": [
    "ipv4_addresses = {}\n",
    "for interface in netifaces.interfaces():\n",
    "    addrs = netifaces.ifaddresses(interface)\n",
    "    \n",
    "    if netifaces.AF_INET in addrs:\n",
    "        ipv4_addresses[interface] = addrs[netifaces.AF_INET]\n",
    "    \n",
    "print(ipv4_addresses)"
   ]
  },
  {
   "cell_type": "markdown",
   "metadata": {},
   "source": [
    "And with a bit of formatting we can get this:"
   ]
  },
  {
   "cell_type": "code",
   "execution_count": 13,
   "metadata": {},
   "outputs": [
    {
     "name": "stdout",
     "output_type": "stream",
     "text": [
      "lo0 127.0.0.1\n",
      "en0 10.0.3.184\n"
     ]
    }
   ],
   "source": [
    "for interface, addresses in ipv4_addresses.items():\n",
    "    print(interface, ' '.join([a['addr'] for a in addresses]))"
   ]
  }
 ],
 "metadata": {
  "kernelspec": {
   "display_name": "Python 3",
   "language": "python",
   "name": "python3"
  },
  "language_info": {
   "codemirror_mode": {
    "name": "ipython",
    "version": 3
   },
   "file_extension": ".py",
   "mimetype": "text/x-python",
   "name": "python",
   "nbconvert_exporter": "python",
   "pygments_lexer": "ipython3",
   "version": "3.6.5"
  }
 },
 "nbformat": 4,
 "nbformat_minor": 2
}
