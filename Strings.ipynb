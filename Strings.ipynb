{
 "cells": [
  {
   "cell_type": "markdown",
   "metadata": {},
   "source": [
    "# Strings\n",
    "* [Concatenation](#Concatenation)\n",
    "* [Special Strings](#Special-Strings)\n"
   ]
  },
  {
   "cell_type": "code",
   "execution_count": 1,
   "metadata": {},
   "outputs": [
    {
     "name": "stdout",
     "output_type": "stream",
     "text": [
      ",------.            ,--.  ,--.                     \n",
      "|  .--. ',--. ,--.,-'  '-.|  ,---.  ,---. ,--,--,  \n",
      "|  '--' | \\  '  / '-.  .-'|  .-.  || .-. ||      \\ \n",
      "|  | --'   \\   '    |  |  |  | |  |' '-' '|  ||  | \n",
      "`--'     .-'  /     `--'  `--' `--' `---' `--''--' \n",
      "         `---'                                     \n",
      "The slash in the beginning prevents the new line\n",
      "\n",
      "You can have strings within single qoutes so you can use \"double quotes\"\n",
      "You can also use double qoutes so you can use 'single qoutes' in your strings\n",
      "Of course you can \"escape\" your qoutes with backslash\n"
     ]
    }
   ],
   "source": [
    "# Double qoutes works as well\n",
    "print('''\\\n",
    ",------.            ,--.  ,--.                     \n",
    "|  .--. ',--. ,--.,-'  '-.|  ,---.  ,---. ,--,--,  \n",
    "|  '--' | \\  '  / '-.  .-'|  .-.  || .-. ||      \\ \n",
    "|  | --'   \\   '    |  |  |  | |  |' '-' '|  ||  | \n",
    "`--'     .-'  /     `--'  `--' `--' `---' `--''--' \n",
    "         `---'                                     \n",
    "The slash in the beginning prevents the new line\n",
    "''')\n",
    "\n",
    "print('You can have strings within single qoutes so you can use \"double quotes\"')\n",
    "print(\"You can also use double qoutes so you can use 'single qoutes' in your strings\")\n",
    "print(\"Of course you can \\\"escape\\\" your qoutes with backslash\")"
   ]
  },
  {
   "cell_type": "markdown",
   "metadata": {},
   "source": [
    "## Concatenation"
   ]
  },
  {
   "cell_type": "code",
   "execution_count": 2,
   "metadata": {},
   "outputs": [
    {
     "name": "stdout",
     "output_type": "stream",
     "text": [
      "Hello world\n",
      "Another way of concatenation\n"
     ]
    }
   ],
   "source": [
    "print(\"Hello \" \"world\")\n",
    "print(\"Another \" + \"way of concatenation\")"
   ]
  },
  {
   "cell_type": "code",
   "execution_count": 3,
   "metadata": {},
   "outputs": [
    {
     "name": "stdout",
     "output_type": "stream",
     "text": [
      "It is specially useful to continue strings on another line\n"
     ]
    }
   ],
   "source": [
    "print(\"It is specially useful to continue \"\n",
    "     \"strings on another line\")"
   ]
  },
  {
   "cell_type": "code",
   "execution_count": 4,
   "metadata": {},
   "outputs": [
    {
     "name": "stdout",
     "output_type": "stream",
     "text": [
      "You can repeat strings with multiplication You can repeat strings with multiplication You can repeat strings with multiplication \n"
     ]
    }
   ],
   "source": [
    "print(\"You can repeat strings with multiplication \" * 3)"
   ]
  },
  {
   "cell_type": "code",
   "execution_count": 5,
   "metadata": {},
   "outputs": [
    {
     "name": "stdout",
     "output_type": "stream",
     "text": [
      "you must use plus to concatenate strings when one is a variable\n"
     ]
    }
   ],
   "source": [
    "string = \"you must use plus to \"\n",
    "print(string + \"concatenate strings when one is a variable\")"
   ]
  },
  {
   "cell_type": "markdown",
   "metadata": {},
   "source": [
    "## Special Strings"
   ]
  },
  {
   "cell_type": "markdown",
   "metadata": {},
   "source": [
    "Unicode strings"
   ]
  },
  {
   "cell_type": "code",
   "execution_count": 6,
   "metadata": {},
   "outputs": [
    {
     "name": "stdout",
     "output_type": "stream",
     "text": [
      "☢\n",
      "☢\n"
     ]
    }
   ],
   "source": [
    "print(u'☢') # Python 2\n",
    "print('☢')  # Python 3"
   ]
  },
  {
   "cell_type": "markdown",
   "metadata": {},
   "source": [
    "Raw string"
   ]
  },
  {
   "cell_type": "code",
   "execution_count": 7,
   "metadata": {},
   "outputs": [
    {
     "name": "stdout",
     "output_type": "stream",
     "text": [
      "C:\\nothing\\is\\escaped\\here\n"
     ]
    }
   ],
   "source": [
    "print(r'C:\\nothing\\is\\escaped\\here')"
   ]
  },
  {
   "cell_type": "markdown",
   "metadata": {},
   "source": [
    "## Substrings\n",
    "Strings are immutable"
   ]
  },
  {
   "cell_type": "code",
   "execution_count": 9,
   "metadata": {},
   "outputs": [
    {
     "ename": "TypeError",
     "evalue": "'str' object does not support item assignment",
     "output_type": "error",
     "traceback": [
      "\u001b[0;31m---------------------------------------------------------------------------\u001b[0m",
      "\u001b[0;31mTypeError\u001b[0m                                 Traceback (most recent call last)",
      "\u001b[0;32m<ipython-input-9-d3dde9bb5392>\u001b[0m in \u001b[0;36m<module>\u001b[0;34m()\u001b[0m\n\u001b[1;32m      1\u001b[0m \u001b[0mstring\u001b[0m \u001b[0;34m=\u001b[0m \u001b[0;34m\"Anders\"\u001b[0m\u001b[0;34m\u001b[0m\u001b[0m\n\u001b[0;32m----> 2\u001b[0;31m \u001b[0mstring\u001b[0m\u001b[0;34m[\u001b[0m\u001b[0;36m0\u001b[0m\u001b[0;34m]\u001b[0m \u001b[0;34m=\u001b[0m \u001b[0;34m\"E\"\u001b[0m\u001b[0;34m\u001b[0m\u001b[0m\n\u001b[0m",
      "\u001b[0;31mTypeError\u001b[0m: 'str' object does not support item assignment"
     ]
    }
   ],
   "source": [
    "string = \"Anders\"\n",
    "string[0] = \"E\""
   ]
  },
  {
   "cell_type": "markdown",
   "metadata": {},
   "source": [
    "Even though strings are immutable you can treat them as arrays. The indexing is from 0 and to "
   ]
  },
  {
   "cell_type": "code",
   "execution_count": 10,
   "metadata": {},
   "outputs": [
    {
     "name": "stdout",
     "output_type": "stream",
     "text": [
      " +---+---+---+---+---+---+\n",
      " | P | y | t | h | o | n |\n",
      " +---+---+---+---+---+---+\n",
      " 0   1   2   3   4   5   6\n",
      "-6  -5  -4  -3  -2  -1\n",
      "\n"
     ]
    }
   ],
   "source": [
    "print(\"\"\"\\\n",
    " +---+---+---+---+---+---+\n",
    " | P | y | t | h | o | n |\n",
    " +---+---+---+---+---+---+\n",
    " 0   1   2   3   4   5   6\n",
    "-6  -5  -4  -3  -2  -1\n",
    "\"\"\")"
   ]
  },
  {
   "cell_type": "code",
   "execution_count": 15,
   "metadata": {},
   "outputs": [
    {
     "name": "stdout",
     "output_type": "stream",
     "text": [
      "0             | A      | First character\n",
      "2:4           | de     | The lower value is inclusive, the higher is exclusive\n",
      "-3:-4         | er     | Negative numbers works\n",
      ":3            | And    | Skipping lower boundery defaults it to 0\n",
      "2:-2          | de     | Third character to the third last\n",
      "2:            | ders   | Skipping the upper bound defaults it to the string lenght\n",
      "0:len(string) | Anders | The whole string (this is why the upper bound is exclusive)\n",
      "len(string)-1 | s      | The last character\n",
      "-1            | s      | which of course can be found with index -1\n",
      "42:           |        | No need to worry for Index out of range errors when slicing\n",
      "4:42          | rs     | Like not at all worrying about the range when you'r slicing\n"
     ]
    }
   ],
   "source": [
    "print(\"0             |\", string[0]       ,      \"     | First character\")\n",
    "print(\"2:4           |\", string[2:4]      ,      \"    | The lower value is inclusive, the higher is exclusive\")\n",
    "print(\"-3:-4         |\", string[-3:-1]    ,      \"    | Negative numbers works\")\n",
    "print(\":3            |\", string[:3]        ,      \"   | Skipping lower boundery defaults it to 0\")\n",
    "print(\"2:-2          |\", string[2:-2]      ,     \"    | Third character to the third last\")\n",
    "print(\"2:            |\", string[2:]         ,      \"  | Skipping the upper bound defaults it to the string lenght\")\n",
    "print(\"0:len(string) |\", string[0:len(string)],      \"| The whole string (this is why the upper bound is exclusive)\")\n",
    "print(\"len(string)-1 |\", string[len(string)-1], \"     | The last character\")\n",
    "print(\"-1            |\", string[-1],            \"     | which of course can be found with index -1\")\n",
    "print(\"42:           |\", string[42:],          \"      | No need to worry for Index out of range errors when slicing\")\n",
    "print(\"4:42          |\", string[4:42],           \"    | Like not at all worrying about the range when you'r slicing\")"
   ]
  },
  {
   "cell_type": "markdown",
   "metadata": {},
   "source": [
    "This is also a reason why bounderies are inclusive:exclusive - string[:i] + string[i:] will always be the same as the whole string."
   ]
  },
  {
   "cell_type": "code",
   "execution_count": null,
   "metadata": {},
   "outputs": [],
   "source": [
    "print(string[:2] + string[2:])"
   ]
  },
  {
   "cell_type": "markdown",
   "metadata": {},
   "source": [
    "## printf formatting\n",
    "[Source](https://docs.python.org/3/library/stdtypes.html#old-string-formatting)\n",
    "[Source](https://docs.python.org/3/library/string.html#formatstrings)\n",
    "[Source](https://docs.python.org/3/reference/lexical_analysis.html#f-strings)"
   ]
  },
  {
   "cell_type": "markdown",
   "metadata": {},
   "source": [
    "## String methods\n",
    "[Source](https://docs.python.org/3/library/stdtypes.html#string-methods)"
   ]
  },
  {
   "cell_type": "markdown",
   "metadata": {},
   "source": [
    "## str and repr\n",
    "[Source](https://docs.python.org/3/library/stdtypes.html#textseq)"
   ]
  }
 ],
 "metadata": {
  "kernelspec": {
   "display_name": "Python 3",
   "language": "python",
   "name": "python3"
  },
  "language_info": {
   "codemirror_mode": {
    "name": "ipython",
    "version": 3
   },
   "file_extension": ".py",
   "mimetype": "text/x-python",
   "name": "python",
   "nbconvert_exporter": "python",
   "pygments_lexer": "ipython3",
   "version": "3.6.5"
  }
 },
 "nbformat": 4,
 "nbformat_minor": 2
}
